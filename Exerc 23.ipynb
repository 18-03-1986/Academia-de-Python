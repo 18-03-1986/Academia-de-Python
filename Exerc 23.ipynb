{
 "cells": [
  {
   "cell_type": "code",
   "execution_count": 1,
   "metadata": {},
   "outputs": [],
   "source": [
    "def diceroll():\n",
    "    \n",
    "    from random import randrange\n",
    "    import collections\n",
    "  \n",
    "    \"\"\"\n",
    "    Função que mostrará os resultados de um dado lançado 100 vezes\n",
    "    \"\"\"\n",
    "   \n",
    "    # 100 lançamentos\n",
    "    n = 100\n",
    "    \n",
    "    # lista em branco para acrescentar o resultado de cada lançamento de dados\n",
    "    j = [] \n",
    "            \n",
    "        \n",
    "    # criar a lista com o resultado de cada lançamento n(i)\n",
    "    # pode virar um atributo de um objeto\n",
    "    for num in range(1,n+1):\n",
    "        j.append(randrange(1,7))\n",
    "    \n",
    "    print('Resultados dos', n, 'lançamentos', j) \n",
    "        \n",
    "    # contar quantas vezes sai 1, 2, 3, 4, 5, 6 para ter a frequencias realtivas de cada numero do dado!    \n",
    "     \n",
    "    cnt = collections.Counter()\n",
    "    \n",
    "    for dice in j:\n",
    "        cnt[dice] +=1\n",
    "    \n",
    "       \n",
    "    dice_1 = cnt[1]\n",
    "    dice_2 = cnt[2]\n",
    "    dice_3 = cnt[3]\n",
    "    dice_4 = cnt[4]\n",
    "    dice_5 = cnt[5]\n",
    "    dice_6 = cnt[6]\n",
    "    \n",
    "    print('Número 01 aparece: ', dice_1,' vezes')\n",
    "    print('Número 02 aparece: ', dice_2, ' vezes')\n",
    "    print('Número 03 aparece: ', dice_3, ' vezes')\n",
    "    print('Número 04 aparece: ', dice_4, ' vezes')\n",
    "    print('Número 05 aparece: ', dice_5, ' vezes')\n",
    "    print('Número 06 aparece: ', dice_6, ' vezes')"
   ]
  },
  {
   "cell_type": "code",
   "execution_count": 2,
   "metadata": {},
   "outputs": [
    {
     "name": "stdout",
     "output_type": "stream",
     "text": [
      "Resultados dos 100 lançamentos [4, 2, 4, 3, 6, 5, 1, 1, 6, 3, 3, 1, 5, 3, 2, 6, 3, 4, 3, 2, 1, 3, 2, 1, 3, 4, 3, 4, 2, 2, 4, 3, 3, 1, 5, 1, 1, 1, 5, 2, 2, 3, 4, 4, 4, 3, 2, 1, 4, 5, 5, 6, 4, 1, 2, 3, 2, 4, 1, 1, 4, 6, 3, 1, 3, 6, 2, 6, 2, 5, 6, 5, 2, 4, 5, 5, 4, 6, 2, 5, 2, 1, 5, 4, 4, 5, 6, 1, 2, 2, 2, 2, 5, 6, 2, 1, 3, 2, 2, 1]\n",
      "Número 01 aparece:  18  vezes\n",
      "Número 02 aparece:  23  vezes\n",
      "Número 03 aparece:  17  vezes\n",
      "Número 04 aparece:  17  vezes\n",
      "Número 05 aparece:  14  vezes\n",
      "Número 06 aparece:  11  vezes\n"
     ]
    }
   ],
   "source": [
    "diceroll()"
   ]
  },
  {
   "cell_type": "code",
   "execution_count": null,
   "metadata": {},
   "outputs": [],
   "source": []
  }
 ],
 "metadata": {
  "kernelspec": {
   "display_name": "Python 3",
   "language": "python",
   "name": "python3"
  },
  "language_info": {
   "codemirror_mode": {
    "name": "ipython",
    "version": 3
   },
   "file_extension": ".py",
   "mimetype": "text/x-python",
   "name": "python",
   "nbconvert_exporter": "python",
   "pygments_lexer": "ipython3",
   "version": "3.6.5"
  }
 },
 "nbformat": 4,
 "nbformat_minor": 2
}
