{
 "cells": [
  {
   "cell_type": "code",
   "execution_count": 16,
   "metadata": {},
   "outputs": [
    {
     "name": "stdout",
     "output_type": "stream",
     "text": [
      "Insira o sexo do usuário: f\n",
      "Feminino\n"
     ]
    }
   ],
   "source": [
    "sex = input('Insira o sexo do usuário: ').upper()\n",
    "    \n",
    "if sex =='F':\n",
    "    print('Feminino')\n",
    "    \n",
    "elif sex == 'M':\n",
    "    print('Masculino')\n",
    "    \n",
    "else:\n",
    "    print('Sexo inválido')          "
   ]
  }
 ],
 "metadata": {
  "kernelspec": {
   "display_name": "Python 3",
   "language": "python",
   "name": "python3"
  },
  "language_info": {
   "codemirror_mode": {
    "name": "ipython",
    "version": 3
   },
   "file_extension": ".py",
   "mimetype": "text/x-python",
   "name": "python",
   "nbconvert_exporter": "python",
   "pygments_lexer": "ipython3",
   "version": "3.6.5"
  }
 },
 "nbformat": 4,
 "nbformat_minor": 2
}
