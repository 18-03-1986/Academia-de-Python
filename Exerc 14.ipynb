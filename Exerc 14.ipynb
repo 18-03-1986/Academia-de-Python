{
 "cells": [
  {
   "cell_type": "code",
   "execution_count": 8,
   "metadata": {},
   "outputs": [
    {
     "name": "stdout",
     "output_type": "stream",
     "text": [
      "Solução do crime!\n",
      "Responda Sim - \"S\" ou Não - \"N\" as perguntas!\n",
      "Telefonou para a vítima? s\n",
      "Esteve no local do crime? s\n",
      "Mora perto da vítima? s\n",
      "Devia para a vítima? s\n",
      "Ja trabalhou com a vítima? s\n",
      "Culpado!\n"
     ]
    }
   ],
   "source": [
    "print('Solução do crime!')\n",
    "print('Responda Sim - \"S\" ou Não - \"N\" as perguntas!')\n",
    "\n",
    "sim = 0\n",
    "\n",
    "st_question = input('Telefonou para a vítima? ').upper()\n",
    "\n",
    "if st_question == 'S':\n",
    "    sim +=1\n",
    "\n",
    "nd_question = input('Esteve no local do crime? ').upper()\n",
    "\n",
    "if nd_question == 'S':\n",
    "    sim +=1\n",
    "    \n",
    "rd_question = input('Mora perto da vítima? ').upper()\n",
    "\n",
    "if rd_question == 'S':\n",
    "    sim +=1\n",
    "\n",
    "th_question = input('Devia para a vítima? ').upper()\n",
    "\n",
    "if th_question == 'S':\n",
    "    sim+=1\n",
    "\n",
    "t5_question = input('Ja trabalhou com a vítima? ').upper()\n",
    "\n",
    "if t5_question == 'S':\n",
    "    sim +=1\n",
    "    \n",
    "    \n",
    "if sim == 2:\n",
    "    print('Suspeita!')\n",
    "    \n",
    "elif 3 <= sim <= 4:\n",
    "    print('Cúmplice!')\n",
    "    \n",
    "elif sim == 5:\n",
    "    print('Culpado!')\n",
    "\n",
    "else:\n",
    "    print('Inocente!')"
   ]
  },
  {
   "cell_type": "code",
   "execution_count": null,
   "metadata": {},
   "outputs": [],
   "source": []
  }
 ],
 "metadata": {
  "kernelspec": {
   "display_name": "Python 3",
   "language": "python",
   "name": "python3"
  },
  "language_info": {
   "codemirror_mode": {
    "name": "ipython",
    "version": 3
   },
   "file_extension": ".py",
   "mimetype": "text/x-python",
   "name": "python",
   "nbconvert_exporter": "python",
   "pygments_lexer": "ipython3",
   "version": "3.6.5"
  }
 },
 "nbformat": 4,
 "nbformat_minor": 2
}
