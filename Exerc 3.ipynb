{
 "cells": [
  {
   "cell_type": "code",
   "execution_count": 6,
   "metadata": {},
   "outputs": [
    {
     "name": "stdout",
     "output_type": "stream",
     "text": [
      "M - Matutino\n",
      "V - Vespertino\n",
      "N - Noturno\n",
      "Em que turno você estuda? C\n",
      "Valor inválido\n"
     ]
    }
   ],
   "source": [
    "print('M - Matutino')\n",
    "print('V - Vespertino')\n",
    "print('N - Noturno')\n",
    "\n",
    "per = input('Em que turno você estuda? ').upper()\n",
    "    \n",
    "if per =='M':\n",
    "    print('Bom dia!')\n",
    "    \n",
    "elif per == 'V':\n",
    "    print('Boa tarde!')\n",
    "\n",
    "elif per == 'N':\n",
    "    print('Boa noite!')\n",
    "    \n",
    "else:\n",
    "    print('Valor inválido')     "
   ]
  },
  {
   "cell_type": "code",
   "execution_count": null,
   "metadata": {},
   "outputs": [],
   "source": []
  }
 ],
 "metadata": {
  "kernelspec": {
   "display_name": "Python 3",
   "language": "python",
   "name": "python3"
  },
  "language_info": {
   "codemirror_mode": {
    "name": "ipython",
    "version": 3
   },
   "file_extension": ".py",
   "mimetype": "text/x-python",
   "name": "python",
   "nbconvert_exporter": "python",
   "pygments_lexer": "ipython3",
   "version": "3.6.5"
  }
 },
 "nbformat": 4,
 "nbformat_minor": 2
}
