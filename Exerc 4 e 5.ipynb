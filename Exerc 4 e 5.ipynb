{
 "cells": [
  {
   "cell_type": "code",
   "execution_count": 24,
   "metadata": {},
   "outputs": [
    {
     "name": "stdout",
     "output_type": "stream",
     "text": [
      "1 º número\n",
      "Insira: 6\n",
      "O segundo número deve ser maior que o primeiro\n",
      "2 º número\n",
      "Insira: 2\n",
      "Segundo número invalido\n",
      "Digite novamente o segundo número: 3\n",
      "Segundo número invalido\n",
      "Digite novamente o segundo número: 10\n",
      "Intervalo entre os números escolhidos:  [7, 8, 9]\n",
      "Soma dos números do intervalo:  24\n"
     ]
    }
   ],
   "source": [
    "i= 0 \n",
    "lst = []\n",
    "\n",
    "for i in range(0,2):\n",
    "    fim = False\n",
    "    if i == 1:\n",
    "        print('O segundo número deve ser maior que o primeiro')\n",
    "    \n",
    "    while not fim:\n",
    "        try:\n",
    "            \n",
    "            print(i+1, 'º número')\n",
    "            \n",
    "            num_int = int(input('Insira: '))\n",
    "            \n",
    "            lst.append(num_int)          \n",
    "            i += 1\n",
    "            fim = True\n",
    "            \n",
    "        except ValueError:\n",
    "            print('Numero inválido, digite novamente!')\n",
    "            \n",
    "while lst[1] <= lst[0]:\n",
    "    print('Segundo número invalido')\n",
    "    lst[1] = int(input('Digite novamente o segundo número: '))\n",
    "            \n",
    "# gerar o intervalo com números inteiros entre o intervalo dos número definidos pelo usuário            \n",
    "ran = [x for x in range(lst[0]+1,lst[1])]            \n",
    "print('Intervalo entre os números escolhidos: ',ran)\n",
    "                 \n",
    "i = 0\n",
    "soma = 0\n",
    "\n",
    "for i in range(len(ran)):\n",
    "    soma += ran[i]\n",
    "    \n",
    "print('Soma dos números do intervalo: ', soma)"
   ]
  }
 ],
 "metadata": {
  "kernelspec": {
   "display_name": "Python 3",
   "language": "python",
   "name": "python3"
  },
  "language_info": {
   "codemirror_mode": {
    "name": "ipython",
    "version": 3
   },
   "file_extension": ".py",
   "mimetype": "text/x-python",
   "name": "python",
   "nbconvert_exporter": "python",
   "pygments_lexer": "ipython3",
   "version": "3.6.5"
  }
 },
 "nbformat": 4,
 "nbformat_minor": 2
}
