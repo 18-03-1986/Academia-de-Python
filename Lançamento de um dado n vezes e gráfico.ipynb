{
 "cells": [
  {
   "cell_type": "code",
   "execution_count": 1,
   "metadata": {},
   "outputs": [],
   "source": [
    "def diceroll(n):\n",
    "\n",
    "    from random import randrange\n",
    "    from collections import Counter\n",
    "    import matplotlib.pyplot as plt\n",
    "    %matplotlib inline\n",
    "       \n",
    "    \"\"\"\n",
    "    Função que calcula a média acumulada do resultado de  n lançamentos de um dado de 6 faces iguais\n",
    "    Mostra o gráfico com o média acumulada x número de lançamentos\n",
    "    \"\"\"\n",
    "    \n",
    "    # lista em branco para acrescentar o resultado de cada lançamento de dados\n",
    "                  \n",
    "    j = [] \n",
    "            \n",
    "       \n",
    "    # criar a lista com o resultado de cada lançamento n(i)\n",
    "    for num in range(0,n):\n",
    "        j.append(randrange(1,7))\n",
    "    # mostra o resultado de todos os lançamentos. Essa parte é opcional para não ocupar mto a tela\n",
    "    # print(\"Resultados dos\", n, \"lançamentos\", j) - tirei a função momentaneamente\n",
    "    \n",
    "    # inicialização de varáveis\n",
    "    soma = 0\n",
    "    i = 0\n",
    "    lanc = []\n",
    "    y = list(range(0,n))\n",
    "    \n",
    "    while i < n:\n",
    "    #soma dos numéros tirados nos lançamentos dividido pelo numero de lançamentos\n",
    "        for num in range(0,n):\n",
    "            soma = j[i] + soma\n",
    "            i +=1\n",
    "            medialanc = soma/i\n",
    "            # acumular os valores da média em uma lista para plotar depois\n",
    "            lanc.append(medialanc)\n",
    "            \n",
    "    print('Número de lançamentos = ', n)\n",
    "    print('Soma dos números lançados = ', soma)\n",
    "    print('Média acumulada dos lançamentos = ' , medialanc)\n",
    "    print('E(%)=', round((medialanc/3.5-1)*100,2))\n",
    "        \n",
    "        \n",
    "    # comandos para plotagem do gráfico\n",
    "    fig = plt.figure()\n",
    "    ax = fig.add_axes([0,0,1,1])\n",
    "    ax.plot(y,lanc)\n",
    "    ax.set_xlabel('Número de Lançamentos')\n",
    "    ax.set_ylabel('Média acumulada dos Lançamentos')\n",
    "    ax.set_title('Lançamento de dados')\n",
    "    \n",
    "        \n",
    "          \n",
    "    # contar quantas vezes sai 1, 2, 3, 4, 5, 6 para ter a frequencias realtivas de cada numero do dado!    \n",
    "     \n",
    "    cnt = Counter()\n",
    "    \n",
    "    for dice in j:\n",
    "        cnt[dice] +=1  \n",
    "    \n",
    "    for st in range(0,6):\n",
    "        print('Frequência de ocorrência do número', st+1,': ', round(cnt[st+1]/n,3))\n",
    "    \n",
    "    print(\"Lei das médias!!!\")"
   ]
  },
  {
   "cell_type": "code",
   "execution_count": 3,
   "metadata": {},
   "outputs": [
    {
     "name": "stdout",
     "output_type": "stream",
     "text": [
      "Número de lançamentos =  10000\n",
      "Soma dos números lançados =  34945\n",
      "Média acumulada dos lançamentos =  3.4945\n",
      "E(%)= -0.16\n",
      "Frequência de ocorrência do número 1 :  0.172\n",
      "Frequência de ocorrência do número 2 :  0.168\n",
      "Frequência de ocorrência do número 3 :  0.161\n",
      "Frequência de ocorrência do número 4 :  0.162\n",
      "Frequência de ocorrência do número 5 :  0.165\n",
      "Frequência de ocorrência do número 6 :  0.172\n",
      "Lei das médias!!!\n"
     ]
    },
    {
     "data": {
      "image/png": "[encoded data removed]",
      "text/plain": [
       "<Figure size 432x288 with 1 Axes>"
      ]
     },
     "metadata": {},
     "output_type": "display_data"
    }
   ],
   "source": [
    "diceroll(10000)"
   ]
  },
  {
   "cell_type": "code",
   "execution_count": null,
   "metadata": {},
   "outputs": [],
   "source": []
  }
 ],
 "metadata": {
  "kernelspec": {
   "display_name": "Python 3",
   "language": "python",
   "name": "python3"
  },
  "language_info": {
   "codemirror_mode": {
    "name": "ipython",
    "version": 3
   },
   "file_extension": ".py",
   "mimetype": "text/x-python",
   "name": "python",
   "nbconvert_exporter": "python",
   "pygments_lexer": "ipython3",
   "version": "3.6.5"
  }
 },
 "nbformat": 4,
 "nbformat_minor": 2
}
