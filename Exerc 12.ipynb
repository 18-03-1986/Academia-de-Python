{
 "cells": [
  {
   "cell_type": "code",
   "execution_count": 10,
   "metadata": {},
   "outputs": [
    {
     "name": "stdout",
     "output_type": "stream",
     "text": [
      "Triângulo\n",
      "Lado 1\n",
      "Insira o valor do lado: 5\n",
      "Lado 2\n",
      "Insira o valor do lado: 5\n",
      "Lado 3\n",
      "Insira o valor do lado: 5\n",
      "Triângulo válido!\n",
      "Triângulo equilátero!\n"
     ]
    }
   ],
   "source": [
    "import sys\n",
    "\n",
    "print('Triângulo')\n",
    "\n",
    "i = 0\n",
    "    \n",
    "tri = []\n",
    "      \n",
    "for i in range(0,3): \n",
    "    fim = False\n",
    "        \n",
    "    while not fim:\n",
    "        try:\n",
    "            print('Lado', i+1)\n",
    "            lado = int(input('Insira o valor do lado: '))\n",
    "            \n",
    "            while lado <= 0:\n",
    "                print('Número inválido')\n",
    "                lado = int(input('Insira o valor do lado: '))\n",
    "            \n",
    "            tri.append(lado)\n",
    "            fim = True\n",
    "\n",
    "        except:\n",
    "            print('Número inválido')\n",
    "            \n",
    "# variáveis booleanas\n",
    "\n",
    "test_1 = tri[0] + tri[1] > tri[2]\n",
    "test_2 = tri[0] + tri[2] > tri[1]\n",
    "test_3 = tri[1] + tri[2] > tri[0]\n",
    "  \n",
    "if test_1 or test_2 or test_3:\n",
    "    print('Triângulo válido!')\n",
    "else:\n",
    "    print('Triângulo inválido!')\n",
    "    sys.exit()\n",
    "    \n",
    "if tri[0] == tri[1] == tri[2]:\n",
    "    print('Triângulo equilátero!')\n",
    "elif tri[0] == tri[1] or tri[0] == tri[2] or tri[1] == tri[2]:\n",
    "    print('Triângulo isósceles!')\n",
    "else:\n",
    "    print('Triângulo escaleno!')"
   ]
  },
  {
   "cell_type": "code",
   "execution_count": null,
   "metadata": {},
   "outputs": [],
   "source": []
  }
 ],
 "metadata": {
  "kernelspec": {
   "display_name": "Python 3",
   "language": "python",
   "name": "python3"
  },
  "language_info": {
   "codemirror_mode": {
    "name": "ipython",
    "version": 3
   },
   "file_extension": ".py",
   "mimetype": "text/x-python",
   "name": "python",
   "nbconvert_exporter": "python",
   "pygments_lexer": "ipython3",
   "version": "3.6.5"
  }
 },
 "nbformat": 4,
 "nbformat_minor": 2
}
