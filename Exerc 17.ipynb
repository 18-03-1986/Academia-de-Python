{
 "cells": [
  {
   "cell_type": "code",
   "execution_count": 10,
   "metadata": {},
   "outputs": [
    {
     "name": "stdout",
     "output_type": "stream",
     "text": [
      "Calculadora de número fatorial\n",
      "Insira um número inteiro: 3\n",
      "3 != 6\n"
     ]
    }
   ],
   "source": [
    "import sys\n",
    "\n",
    "\n",
    "print('Calculadora de número fatorial')\n",
    "\n",
    "try:\n",
    "    n = int(input('Insira um número inteiro: '))\n",
    "except:\n",
    "    print('Número inválido')\n",
    "    print('Programa finalizado')\n",
    "    sys.exit() \n",
    "        \n",
    "# para preservar o processador\n",
    "while n > 20: \n",
    "    print('Número muito grande')\n",
    "    n = int(input('Insira novamente um número inteiro: '))\n",
    "\n",
    "\n",
    "produto = 1\n",
    "\n",
    "# criar uma lista com intervalo de 1 a n, inclusive n\n",
    "\n",
    "lst = [x for x in range(1,n+1)]\n",
    "\n",
    "i = 0\n",
    "for i in range(1,n):\n",
    "    produto *= lst[i]\n",
    "    \n",
    "print(n,'!=',produto)\n",
    "\n"
   ]
  },
  {
   "cell_type": "code",
   "execution_count": null,
   "metadata": {},
   "outputs": [],
   "source": []
  }
 ],
 "metadata": {
  "kernelspec": {
   "display_name": "Python 3",
   "language": "python",
   "name": "python3"
  },
  "language_info": {
   "codemirror_mode": {
    "name": "ipython",
    "version": 3
   },
   "file_extension": ".py",
   "mimetype": "text/x-python",
   "name": "python",
   "nbconvert_exporter": "python",
   "pygments_lexer": "ipython3",
   "version": "3.6.5"
  }
 },
 "nbformat": 4,
 "nbformat_minor": 2
}
