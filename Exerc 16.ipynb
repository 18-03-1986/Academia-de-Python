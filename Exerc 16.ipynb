{
 "cells": [
  {
   "cell_type": "code",
   "execution_count": 6,
   "metadata": {},
   "outputs": [
    {
     "name": "stdout",
     "output_type": "stream",
     "text": [
      "Calculadora de potenciação\n",
      "\n",
      "Insira um valor para a base: 4\n",
      "Insira um valor para o expoente: 3\n",
      "Resultado: \n",
      "4.0 ^ 3 = 64.0\n"
     ]
    }
   ],
   "source": [
    "print('Calculadora de potenciação')\n",
    "print('')\n",
    "base = float(input('Insira um valor para a base: '))\n",
    "\n",
    "expoente = int(input('Insira um valor para o expoente: '))\n",
    "\n",
    "producto = 1\n",
    "\n",
    "for i in [x for x in range(0,expoente)]:\n",
    "    producto *= base\n",
    "    \n",
    "print('Resultado: ')\n",
    "print(base,'^',expoente,'=', producto)\n",
    "    \n"
   ]
  },
  {
   "cell_type": "code",
   "execution_count": null,
   "metadata": {},
   "outputs": [],
   "source": []
  }
 ],
 "metadata": {
  "kernelspec": {
   "display_name": "Python 3",
   "language": "python",
   "name": "python3"
  },
  "language_info": {
   "codemirror_mode": {
    "name": "ipython",
    "version": 3
   },
   "file_extension": ".py",
   "mimetype": "text/x-python",
   "name": "python",
   "nbconvert_exporter": "python",
   "pygments_lexer": "ipython3",
   "version": "3.6.5"
  }
 },
 "nbformat": 4,
 "nbformat_minor": 2
}
