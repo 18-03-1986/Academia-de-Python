{
 "cells": [
  {
   "cell_type": "code",
   "execution_count": 8,
   "metadata": {},
   "outputs": [],
   "source": [
    "def bimean():\n",
    "   \n",
    "    i = 0\n",
    "    \n",
    "    nota = []\n",
    "      \n",
    "    for i in range(0,4): \n",
    "        fim = False\n",
    "        \n",
    "        while not fim:\n",
    "            try:\n",
    "                print(i+1,'º bimestre')\n",
    "                bim = float(input('Insira a nota: '))\n",
    "\n",
    "                # não permitir o programa seguir caso o usuário digite números negativos ou acima de 10\n",
    "\n",
    "               \n",
    "                while not 0 <= bim <=10:\n",
    "                    print('Notas somente entre 0 e 10')\n",
    "                    bim = float(input('Insira a nota: '))\n",
    "                    \n",
    "\n",
    "                nota.append(bim)\n",
    "                i += 1\n",
    "                fim = True\n",
    "\n",
    "            # exceção para não permitir o programa seguir caso o usuário digite uma letra ao invés de um número\n",
    "            except:\n",
    "                print('Use apenas números')\n",
    "                   \n",
    "    \n",
    "    # aqui ja temos parte do exerc 05\n",
    "    soma = 0\n",
    "    i = 0\n",
    "    \n",
    "    for i in range(0,4):\n",
    "        soma += nota[i]\n",
    "    \n",
    "    media = soma/4        \n",
    "    \n",
    "    print('A média das notas dos 4 bimestres é: ', round(media,2))\n",
    "    \n",
    "    # exercício 06 - Verificar se o aluno foi aprovado ou não\n",
    "    if media == 10:\n",
    "        print('Aprovado com nota máxima')\n",
    "            \n",
    "    elif media < 7:\n",
    "        print('Reprovado')\n",
    "        \n",
    "    elif media >= 7:\n",
    "        print('Aprovado')"
   ]
  },
  {
   "cell_type": "code",
   "execution_count": 11,
   "metadata": {},
   "outputs": [
    {
     "name": "stdout",
     "output_type": "stream",
     "text": [
      "1 º bimestre\n",
      "Insira a nota: 5\n",
      "2 º bimestre\n",
      "Insira a nota: 8\n",
      "3 º bimestre\n",
      "Insira a nota: 9\n",
      "4 º bimestre\n",
      "Insira a nota: 9\n",
      "A média das notas dos 4 bimestres é:  7.75\n",
      "Aprovado\n"
     ]
    }
   ],
   "source": [
    "bimean()"
   ]
  },
  {
   "cell_type": "code",
   "execution_count": null,
   "metadata": {},
   "outputs": [],
   "source": []
  }
 ],
 "metadata": {
  "kernelspec": {
   "display_name": "Python 3",
   "language": "python",
   "name": "python3"
  },
  "language_info": {
   "codemirror_mode": {
    "name": "ipython",
    "version": 3
   },
   "file_extension": ".py",
   "mimetype": "text/x-python",
   "name": "python",
   "nbconvert_exporter": "python",
   "pygments_lexer": "ipython3",
   "version": "3.6.5"
  }
 },
 "nbformat": 4,
 "nbformat_minor": 2
}
