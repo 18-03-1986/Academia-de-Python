{
 "cells": [
  {
   "cell_type": "code",
   "execution_count": 4,
   "metadata": {},
   "outputs": [
    {
     "name": "stdout",
     "output_type": "stream",
     "text": [
      "Validador\n",
      "Insira seu nome: Dan\n",
      "Inválido!\n",
      "Insira sua idade: -4\n",
      "Inválido!\n",
      "Insira seu salário: 234\n",
      "Válido!\n",
      "Insira o seu sexo: \"M\" - Masculino ou \"F\" - Femininom\n",
      "Válido!\n",
      " \"S\" - Solteiro(a) \n",
      " \"C\" - Casado(a) \n",
      " \"V\" - Viuvo(a) \n",
      " \"D\" - Divorciado(a) \n",
      "Insira o seu estado civil: v\n",
      "Válido!\n"
     ]
    }
   ],
   "source": [
    "print('Validador')\n",
    "\n",
    "name = input('Insira seu nome: ')\n",
    "\n",
    "if len(name) > 3:\n",
    "    print('Válido!')\n",
    "else:\n",
    "    print('Inválido!')\n",
    "    \n",
    "age = int(input('Insira sua idade: '))\n",
    "\n",
    "if 0 <= age <= 150:\n",
    "    print('Válido!')\n",
    "else:\n",
    "    print('Inválido!')\n",
    "    \n",
    "sal = float(input('Insira seu salário: '))\n",
    "\n",
    "if sal > 0:\n",
    "    print('Válido!')\n",
    "else:\n",
    "    print('Inválido!')\n",
    "    \n",
    "sex = input('Insira o seu sexo: \"M\" - Masculino ou \"F\" - Feminino').upper()\n",
    "\n",
    "if sex == 'F' or sex == 'M':\n",
    "    print('Válido!')\n",
    "else:\n",
    "    print('Inválido!')\n",
    "    \n",
    "print(' \"S\" - Solteiro(a) ')\n",
    "print(' \"C\" - Casado(a) ')\n",
    "print(' \"V\" - Viuvo(a) ')\n",
    "print(' \"D\" - Divorciado(a) ')\n",
    "est = input('Insira o seu estado civil: ')\n",
    "\n",
    "test = est != 'S' or est != 'C' or est != 'V' or est != \"D\"\n",
    "\n",
    "if test == True:\n",
    "    print('Válido!')\n",
    "else:\n",
    "    print('Inválido!')    "
   ]
  },
  {
   "cell_type": "code",
   "execution_count": null,
   "metadata": {},
   "outputs": [],
   "source": []
  }
 ],
 "metadata": {
  "kernelspec": {
   "display_name": "Python 3",
   "language": "python",
   "name": "python3"
  },
  "language_info": {
   "codemirror_mode": {
    "name": "ipython",
    "version": 3
   },
   "file_extension": ".py",
   "mimetype": "text/x-python",
   "name": "python",
   "nbconvert_exporter": "python",
   "pygments_lexer": "ipython3",
   "version": "3.6.5"
  }
 },
 "nbformat": 4,
 "nbformat_minor": 2
}
