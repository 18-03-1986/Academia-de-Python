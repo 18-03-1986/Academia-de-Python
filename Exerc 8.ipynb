{
 "cells": [
  {
   "cell_type": "code",
   "execution_count": 5,
   "metadata": {},
   "outputs": [
    {
     "name": "stdout",
     "output_type": "stream",
     "text": [
      "Insira seu salário por hora: R$/h r\n",
      "Use apenas números\n",
      "Insira seu salário por hora: R$/h 44.60\n",
      "Insira a quantidade de horas trabalhadas no mês: r\n",
      "Apenas número inteiros\n",
      "Insira a quantidade de horas trabalhadas no mês: f\n",
      "Apenas número inteiros\n",
      "Insira a quantidade de horas trabalhadas no mês: 176\n",
      "Salário Líquido/mês: R$  5965.7\n"
     ]
    }
   ],
   "source": [
    "fim = False\n",
    "        \n",
    "while not fim:\n",
    "    try:\n",
    "        sal_hora = float(input('Insira seu salário por hora: R$/h '))\n",
    "        fim = True\n",
    "    # exceção para não permitir o programa seguir caso o usuário digite uma letra ao invés de um número    \n",
    "    except:\n",
    "        print('Use apenas números')\n",
    "                \n",
    "fim = False\n",
    "    \n",
    "while not fim:\n",
    "    try:    \n",
    "        horas_mes = int(input('Insira a quantidade de horas trabalhadas no mês: '))\n",
    "        fim = True\n",
    "    except:\n",
    "        print('Apenas número inteiros')\n",
    "\n",
    "sal_bruto = sal_hora * horas_mes\n",
    "IR = 0.11 * sal_bruto\n",
    "INSS = 0.08 * sal_bruto\n",
    "Sind = 0.05 * sal_bruto\n",
    "\n",
    "sal_liquido = sal_bruto - IR - INSS - Sind\n",
    "\n",
    "print('Salário Líquido/mês: R$ ', round(sal_liquido,2))\n"
   ]
  },
  {
   "cell_type": "code",
   "execution_count": null,
   "metadata": {},
   "outputs": [],
   "source": []
  }
 ],
 "metadata": {
  "kernelspec": {
   "display_name": "Python 3",
   "language": "python",
   "name": "python3"
  },
  "language_info": {
   "codemirror_mode": {
    "name": "ipython",
    "version": 3
   },
   "file_extension": ".py",
   "mimetype": "text/x-python",
   "name": "python",
   "nbconvert_exporter": "python",
   "pygments_lexer": "ipython3",
   "version": "3.6.5"
  }
 },
 "nbformat": 4,
 "nbformat_minor": 2
}
